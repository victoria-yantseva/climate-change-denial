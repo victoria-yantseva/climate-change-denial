{
 "cells": [
  {
   "cell_type": "code",
   "execution_count": null,
   "id": "e6bb649f",
   "metadata": {},
   "outputs": [],
   "source": [
    "#from laserembeddings import Laser\n",
    "import pandas as pd\n",
    "import numpy as np\n",
    "import seaborn as sns\n",
    "from sklearn.manifold import TSNE\n",
    "from sklearn.cluster import KMeans\n",
    "\n",
    "from sklearn.feature_extraction.text import TfidfVectorizer\n",
    "\n",
    "from sklearn.decomposition import PCA\n",
    "import pickle\n",
    "import csv\n",
    "import re\n",
    "\n",
    "import tensorflow as tf\n",
    "import traja\n",
    "from tslearn.metrics import dtw, dtw_path\n",
    "from datetime import datetime, timedelta\n",
    "from holoviews import opts, dim\n",
    "from matplotlib import pyplot as plt"
   ]
  },
  {
   "cell_type": "code",
   "execution_count": null,
   "id": "133864c6",
   "metadata": {},
   "outputs": [],
   "source": [
    "tf.config.list_physical_devices('GPU')"
   ]
  },
  {
   "cell_type": "code",
   "execution_count": null,
   "id": "99f32808",
   "metadata": {},
   "outputs": [],
   "source": [
    "fb = pd.read_csv (\"sv_keywords_filtered_NEW2.csv\")\n",
    "big_df = pd.read_csv(\"big_df_keywords_filtered_NEW.csv\")"
   ]
  },
  {
   "cell_type": "code",
   "execution_count": null,
   "id": "7b28ba56",
   "metadata": {},
   "outputs": [],
   "source": [
    "tsne_scores_df = pd.read_csv(\"tsne_scores_df2.csv\")"
   ]
  },
  {
   "cell_type": "markdown",
   "id": "0bfed65f",
   "metadata": {},
   "source": [
    "# BUILD PLOTS"
   ]
  },
  {
   "cell_type": "code",
   "execution_count": null,
   "id": "b951a636",
   "metadata": {},
   "outputs": [],
   "source": [
    "sv_actors_summary = tsne_scores_df.groupby ('Group.Name', as_index=False).agg({'denial_binary': 'sum', \n",
    "                                                                                'X1': 'mean', \n",
    "                                                                                'X2': 'mean',\n",
    "                                                                                'fasttext': 'count'})\n",
    "sv_actors_summary"
   ]
  },
  {
   "cell_type": "code",
   "execution_count": null,
   "id": "f120fd68",
   "metadata": {},
   "outputs": [],
   "source": [
    "sv_actors_years = tsne_scores_df.groupby (['Year', 'Group.Name'], as_index=False).agg({'denial_binary': 'sum', \n",
    "                                                                                      'X1': 'mean', \n",
    "                                                                                      'X2': 'mean',\n",
    "                                                                                      'fasttext': 'count'})\n",
    "\n",
    "sv_actors_years ['coord'] = sv_actors_years[['X1', 'X2']].apply(lambda r: tuple(r), axis=1)"
   ]
  },
  {
   "cell_type": "code",
   "execution_count": null,
   "id": "88a7e0af",
   "metadata": {},
   "outputs": [],
   "source": [
    "sv_actors_count = sv_actors_years.groupby ('Group.Name', as_index = False).agg({'fasttext': 'count'})\n",
    "\n",
    "sv_actors_count\n",
    "sv_actors_count = sv_actors_count[sv_actors_count.fasttext >1].reset_index(drop = True)\n",
    "active_actors = sv_actors_count['Group.Name'].unique().tolist()\n",
    "\n",
    "unique_years = sv_actors_years['Year'].unique().tolist()\n",
    "len(active_actors)"
   ]
  },
  {
   "cell_type": "code",
   "execution_count": null,
   "id": "17f3d666",
   "metadata": {},
   "outputs": [],
   "source": [
    "sv_actors_years  = sv_actors_years [sv_actors_years[\"Group.Name\"].isin (active_actors)].reset_index(drop = True)\n",
    "sv_actors_years\n",
    "\n",
    "sv_actors_summary  = sv_actors_summary [sv_actors_summary[\"Group.Name\"].isin (active_actors)].reset_index(drop = True)"
   ]
  },
  {
   "cell_type": "code",
   "execution_count": null,
   "id": "bc588dbd",
   "metadata": {},
   "outputs": [],
   "source": [
    "#IDENTIFY ACTORS SHARING CLIMATE CHANGE DENIAL CONTENT\n",
    "\n",
    "denial_df = tsne_scores_df.groupby ('Group.Name', as_index = False).agg ({'fasttext': 'count', 'denial_binary': 'sum'}).sort_values (by = 'denial_binary',\n",
    "                                                                                           ascending = False)\n",
    "\n",
    "denial_df[\"denial_ratio\"] = denial_df[\"denial_binary\"]/denial_df[\"fasttext\"]\n",
    "denial_df\n",
    "\n",
    "denial_df = denial_df[(denial_df.denial_binary >1)&(denial_df.denial_ratio >0.05)]\n",
    "denial_df  = denial_df [denial_df [\"Group.Name\"].isin (active_actors)].reset_index(drop = True)\n",
    "denial_names = denial_df['Group.Name'].tolist()\n",
    "len(denial_names)"
   ]
  },
  {
   "cell_type": "code",
   "execution_count": null,
   "id": "aad90539",
   "metadata": {},
   "outputs": [],
   "source": [
    "print(np.mean(denial_df.denial_ratio))\n",
    "print(np.median(denial_df.denial_ratio))"
   ]
  },
  {
   "cell_type": "markdown",
   "id": "0e9ce322",
   "metadata": {},
   "source": [
    "# FIND TRAJECTORIES"
   ]
  },
  {
   "cell_type": "code",
   "execution_count": null,
   "id": "50cb2fc5",
   "metadata": {},
   "outputs": [],
   "source": [
    "coord_list = []\n",
    "year_list=[]\n",
    "\n",
    "for actor in active_actors:\n",
    "    arr = []\n",
    "    yr = []\n",
    "    for year in unique_years:\n",
    "        coor = sv_actors_years.coord[(sv_actors_years.Year == year)&(sv_actors_years['Group.Name'] == actor)]\n",
    "        if coor.shape != (0,):\n",
    "            arr.append(coor.values)\n",
    "            yr.append(year)\n",
    "        \n",
    "    arr = np.concatenate(np.array(arr))\n",
    "    arr = np.vstack(np.array(arr.tolist()))\n",
    "    coord_list.append(arr)\n",
    "    year_list.append(yr)"
   ]
  },
  {
   "cell_type": "markdown",
   "id": "3667559f",
   "metadata": {},
   "source": [
    "# DYNAMIC TIME WARPING + SMOOTHING + CLUSTERING"
   ]
  },
  {
   "cell_type": "code",
   "execution_count": null,
   "id": "971a0a1c",
   "metadata": {},
   "outputs": [],
   "source": [
    "with open('ar_smoothed', 'rb') as file:\n",
    "    # Load the pickled data\n",
    "    ar_smoothed = pickle.load(file)"
   ]
  },
  {
   "cell_type": "code",
   "execution_count": null,
   "id": "8511ddd1",
   "metadata": {},
   "outputs": [],
   "source": [
    "from sklearn.cluster import AgglomerativeClustering\n",
    "import warnings\n",
    "warnings.filterwarnings(\"ignore\")\n",
    "\n",
    "with tf.device('/gpu:0'):  \n",
    "\n",
    "    clust_smoothed = AgglomerativeClustering(metric='precomputed', \n",
    "                                             linkage = 'complete', \n",
    "                                             n_clusters = 54).fit_predict(ar_smoothed)\n",
    "    "
   ]
  },
  {
   "cell_type": "code",
   "execution_count": null,
   "id": "5eb944fd",
   "metadata": {},
   "outputs": [],
   "source": [
    "from sklearn.metrics import silhouette_score\n",
    "sil_score = silhouette_score(ar_smoothed, clust_smoothed, metric = 'precomputed')\n",
    "sil_score"
   ]
  },
  {
   "cell_type": "code",
   "execution_count": null,
   "id": "2e8a27cc",
   "metadata": {},
   "outputs": [],
   "source": [
    "sv_actors_summary['cluster_smoothed'] = \"\"\n",
    "\n",
    "for i in range(0, len(active_actors)):\n",
    "    \n",
    "    sv_actors_summary['cluster_smoothed'].loc [sv_actors_summary['Group.Name'] == active_actors[i]] = clust_smoothed [i]"
   ]
  },
  {
   "cell_type": "code",
   "execution_count": null,
   "id": "e64805fd",
   "metadata": {},
   "outputs": [],
   "source": [
    "sv_actors_years['cluster_smoothed'] = \"\"\n",
    "\n",
    "for i in range(0, len(active_actors)):\n",
    "    \n",
    "    sv_actors_years['cluster_smoothed'].loc [sv_actors_years['Group.Name'] == active_actors[i]] = clust_smoothed [i]\n",
    "    \n",
    "sv_actors_years  "
   ]
  },
  {
   "cell_type": "code",
   "execution_count": null,
   "id": "a43a2cbb",
   "metadata": {},
   "outputs": [],
   "source": [
    "g = sns.FacetGrid(sv_actors_years, col = \"cluster_smoothed\", col_wrap=3)#, margin_titles=True)\n",
    "g.map_dataframe(sns.lineplot, x=\"X1\", y=\"X2\", hue = \"Group.Name\", alpha = 0.3)\n",
    "g.set(xlim=(-100, 100), ylim=(-100, 100))\n",
    "g.tight_layout()"
   ]
  },
  {
   "cell_type": "code",
   "execution_count": null,
   "id": "729a6374",
   "metadata": {},
   "outputs": [],
   "source": [
    "sv_actors_summary.to_csv(\"sv_actors_summary.csv\")"
   ]
  },
  {
   "cell_type": "markdown",
   "id": "794296a2",
   "metadata": {},
   "source": [
    "# FIND AVERAGE PATHS FOR EACH CLUSTER"
   ]
  },
  {
   "cell_type": "code",
   "execution_count": null,
   "id": "86a2641f",
   "metadata": {},
   "outputs": [],
   "source": [
    "clusters_smoothed = sv_actors_years['cluster_smoothed'].unique()\n",
    "mean_clusters_years = []\n",
    "\n",
    "for cluster in clusters_smoothed:\n",
    "    \n",
    "    df = sv_actors_years [sv_actors_years['cluster_smoothed'] == cluster]\n",
    "    df = df.groupby ('Year', as_index = False).agg({'X1': 'mean', 'X2': 'mean'})\n",
    "    df[\"cluster_smoothed\"] = cluster\n",
    "    mean_clusters_years.append(df)\n",
    "    \n",
    "mean_clusters_years = pd.concat (mean_clusters_years)    "
   ]
  },
  {
   "cell_type": "code",
   "execution_count": null,
   "id": "8a444049",
   "metadata": {},
   "outputs": [],
   "source": [
    "dat_denial = sv_actors_summary[sv_actors_summary[\"Group.Name\"].isin(denial_names)].reset_index(drop = True)\n",
    "denial_clusters = dat_denial['cluster_smoothed'].unique().tolist()\n",
    "len(denial_clusters)"
   ]
  },
  {
   "cell_type": "code",
   "execution_count": null,
   "id": "974d950b",
   "metadata": {},
   "outputs": [],
   "source": [
    "mean_clusters_denial = mean_clusters_years [mean_clusters_years.cluster_smoothed.isin(denial_clusters)]\n",
    "mean_clusters_denial"
   ]
  },
  {
   "cell_type": "code",
   "execution_count": null,
   "id": "973a49f2",
   "metadata": {},
   "outputs": [],
   "source": [
    "sv_actors_summary [\"denial_ratio\"] = sv_actors_summary[\"denial_binary\"]/sv_actors_summary[\"fasttext\"]"
   ]
  },
  {
   "cell_type": "code",
   "execution_count": null,
   "id": "e4b2096f",
   "metadata": {
    "scrolled": true
   },
   "outputs": [],
   "source": [
    "sns.set(rc={'figure.figsize':(8, 10)})\n",
    "p5= sns.scatterplot(x=\"X1\", y=\"X2\",\n",
    "                    palette=sns.color_palette(\"flare\", as_cmap=True),\n",
    "                    hue=\"denial_ratio\", \n",
    "                    data=sv_actors_summary, alpha = 1)\n",
    "\n",
    "sns.move_legend(p5, \"lower left\",\n",
    "                title='Ratio of climate change\\ndenial-related messages shared', alignment = \"left\")\n"
   ]
  },
  {
   "cell_type": "code",
   "execution_count": null,
   "id": "6c3785ef",
   "metadata": {},
   "outputs": [],
   "source": [
    "denial_actors_summary = sv_actors_summary[sv_actors_summary[\"Group.Name\"].isin (denial_names)]\n",
    "denial_actors_summary\n",
    "denial_actors_summary[\"denial_ratio\"] = denial_actors_summary[\"denial_binary\"] / denial_actors_summary[\"fasttext\"]\n",
    "\n",
    "plt.hist(denial_actors_summary[\"denial_ratio\"], bins = 100)\n",
    "plt.show()"
   ]
  },
  {
   "cell_type": "markdown",
   "id": "f2958cdf",
   "metadata": {},
   "source": [
    "# MEAN DISTANCES"
   ]
  },
  {
   "cell_type": "code",
   "execution_count": null,
   "id": "95b1d2ea",
   "metadata": {},
   "outputs": [],
   "source": [
    "#ACTORS SHARING CLIMATE CHANGE DENIAL CONTENT\n",
    "\n",
    "denial_lengths = []\n",
    "denial_distances=[]\n",
    "denial_displacements = []\n",
    "\n",
    "\n",
    "\n",
    "for i in range(0, len(denial_names)):\n",
    "    df = sv_actors_years[[\"X1\", \"X2\", \"Year\"]][sv_actors_years[\"Group.Name\"] == denial_names[i]].reset_index(drop = True)\n",
    "    df = df.rename(columns = {\"X1\": 'x', \"X2\": 'y', \"Year\": \"time\"})\n",
    "    df = traja.TrajaDataFrame(df)\n",
    "    denial_lengths.append(traja.length(df))\n",
    "    denial_distances.append(traja.distance(df))\n",
    "    denial_displacements.append(traja.calc_displacement(df))"
   ]
  },
  {
   "cell_type": "code",
   "execution_count": null,
   "id": "e717ccc1",
   "metadata": {},
   "outputs": [],
   "source": [
    "denial_actors_traja = pd.DataFrame ({'length': denial_lengths, \n",
    "                                  'distance': denial_distances, \n",
    "                                  'displacement': denial_displacements,\n",
    "                                 'Group.Name': denial_names})\n",
    "\n",
    "denial_actors_traja "
   ]
  },
  {
   "cell_type": "code",
   "execution_count": null,
   "id": "b7b24c22",
   "metadata": {},
   "outputs": [],
   "source": [
    "#ALL ACTORS\n",
    "\n",
    "lengths = []\n",
    "distances=[]\n",
    "displacements = []\n",
    "\n",
    "for i in range(0, len(active_actors)):\n",
    "    df = sv_actors_years[[\"X1\", \"X2\", \"Year\"]][sv_actors_years[\"Group.Name\"] == active_actors[i]].reset_index(drop = True)\n",
    "    df = df.rename(columns = {\"X1\": 'x', \"X2\": 'y', \"Year\": \"time\"})\n",
    "    df = traja.TrajaDataFrame(df)\n",
    "    lengths.append(traja.length(df))\n",
    "    distances.append(traja.distance(df))\n",
    "    displacements.append(traja.calc_displacement(df))"
   ]
  },
  {
   "cell_type": "code",
   "execution_count": null,
   "id": "0947bbb7",
   "metadata": {},
   "outputs": [],
   "source": [
    "all_actors_traja = pd.DataFrame ({'length': lengths, \n",
    "                                  'distance': distances, \n",
    "                                  'displacement': displacements,\n",
    "                                 'Group.Name': active_actors})\n",
    "\n",
    "sv_actors_summary = sv_actors_summary.merge(all_actors_traja, on = 'Group.Name')\n",
    "sv_actors_summary ['denial_ratio'] = sv_actors_summary ['denial_binary'] / sv_actors_summary ['fasttext']\n",
    "sv_actors_summary.to_csv(\"sv_actors_summary.csv\")"
   ]
  },
  {
   "cell_type": "code",
   "execution_count": null,
   "id": "745df3a0",
   "metadata": {},
   "outputs": [],
   "source": [
    "sv_actors_summary.corr(numeric_only=True).style.background_gradient(cmap='coolwarm')"
   ]
  },
  {
   "cell_type": "code",
   "execution_count": null,
   "id": "74c4d800",
   "metadata": {},
   "outputs": [],
   "source": [
    "clusters_smoothed  = mean_clusters_years.cluster_smoothed.unique()\n",
    "clusters_smoothed"
   ]
  },
  {
   "cell_type": "code",
   "execution_count": null,
   "id": "e59cb44e",
   "metadata": {},
   "outputs": [],
   "source": [
    "#ALL CLUSTERS\n",
    "\n",
    "lengths = []\n",
    "distances=[]\n",
    "displacements = []\n",
    "clusters=[]\n",
    "\n",
    "plt.rcParams['figure.figsize'] = [12, 50]\n",
    "fig, axes = plt.subplots(nrows=14, ncols=4, sharex=True, sharey=True)\n",
    "fig.delaxes(axes[12,1]) \n",
    "custom_xlim = (-100, 100)\n",
    "custom_ylim = (-100, 100)\n",
    "\n",
    "plt.setp(axes, xlim=custom_xlim, ylim=custom_ylim)\n",
    "axes = axes.ravel()\n",
    "\n",
    "for i in range(0, len(clusters_smoothed)):\n",
    "    df = mean_clusters_years[[\"X1\", \"X2\", \"Year\"]][mean_clusters_years.cluster_smoothed == clusters_smoothed[i]].reset_index(drop = True)\n",
    "    df = df.rename(columns = {\"X1\": 'x', \"X2\": 'y', \"Year\": \"time\"})\n",
    "    df = traja.TrajaDataFrame(df)\n",
    "    lengths.append(traja.length(df))\n",
    "    distances.append(traja.distance(df))\n",
    "    displacements.append(traja.calc_displacement(df))\n",
    "    clusters.append(clusters_smoothed[i])\n",
    "    \n",
    "    df = traja.smooth_sg(df, w = 3, p=1)\n",
    "    \n",
    "    plot_title = \"Cluster \" + str (clusters_smoothed[i])\n",
    "    axes[i].plot(df.x, df.y, '-o')\n",
    "    axes[i].title.set_text(plot_title)\n",
    "    axes[i].text(df.x[0]-1, df.y[0]+1, df.time[0])\n",
    "    \n",
    "    l = len(df)-1\n",
    "    axes[i].text(df.x[l], df.y[l], df.time[l])\n",
    "   \n",
    "plt.show()   \n"
   ]
  },
  {
   "cell_type": "code",
   "execution_count": null,
   "id": "062b5675",
   "metadata": {},
   "outputs": [],
   "source": [
    "\n",
    "df = mean_clusters_years[[\"X1\", \"X2\", \"Year\"]][mean_clusters_years.cluster_smoothed == 52].reset_index(drop = True)\n",
    "df = df.rename(columns = {\"X1\": 'x', \"X2\": 'y', \"Year\": \"time\"})\n",
    "df = traja.TrajaDataFrame(df)\n",
    "df = traja.smooth_sg(df, w = 3, p=1)\n",
    "\n",
    "plt.rcParams['figure.figsize'] = [12, 50]\n",
    "fig, axes = plt.subplots(nrows=1, ncols=1, sharex=True, sharey=True)\n",
    " \n",
    "custom_xlim = (-100, 100)\n",
    "custom_ylim = (-100, 100)\n",
    "\n",
    "plt.setp(axes, xlim=custom_xlim, ylim=custom_ylim)\n",
    "\n",
    "plot_title = \"Cluster \" + str (52)\n",
    "axes.plot(df.x, df.y, '-o')\n",
    "axes.title.set_text(plot_title)\n",
    "axes.text(df.x[0], df.y[0], df.time[0])\n",
    "    \n",
    "l = len(df)-1\n",
    "axes.text(df.x[l], df.y[l], df.time[l])\n",
    "plt.show()   \n",
    "   "
   ]
  },
  {
   "cell_type": "code",
   "execution_count": null,
   "id": "a116ef12",
   "metadata": {},
   "outputs": [],
   "source": [
    "## DIFFERENT DIRECTIONS\n",
    "\n",
    "cluster_directions = [[18, 9, 6],\n",
    "                     [25, 33, 52],\n",
    "                     [29, 34, 20],\n",
    "                     [7, 49, 32],\n",
    "                     [0, 26, 43]]\n",
    "\n",
    "\n",
    "for j in range (0, len(cluster_directions)):\n",
    "\n",
    "\n",
    "    fig, axes = plt.subplots(nrows=1, ncols=3, sharex=True, sharey=True, figsize = [14, 4]) \n",
    "    \n",
    "    custom_xlim = (-100, 100)\n",
    "    custom_ylim = (-100, 100)\n",
    "\n",
    "    plt.setp(axes, xlim=custom_xlim, ylim=custom_ylim)\n",
    "\n",
    "    for i in range(0, len(cluster_directions[j])):\n",
    "        df = mean_clusters_years[[\"X1\", \"X2\", \"Year\"]][mean_clusters_years.cluster_smoothed == cluster_directions[j][i]].reset_index(drop = True)\n",
    "        df = df.rename(columns = {\"X1\": 'x', \"X2\": 'y', \"Year\": \"time\"})\n",
    "        df = traja.TrajaDataFrame(df)\n",
    "        df = traja.smooth_sg(df, w = 3, p=1)\n",
    "    \n",
    "        plot_title = \"Cluster \" + str (cluster_directions[j][i])\n",
    "        axes[i].plot(df.x, df.y, '-o')\n",
    "        axes[i].title.set_text(plot_title)\n",
    "        axes[i].text(df.x[0], df.y[0], df.time[0])\n",
    "    \n",
    "        l = len(df)-1\n",
    "        axes[i].text(df.x[l], df.y[l], df.time[l])\n",
    "\n",
    "    plt.savefig('cluster_directions' + str(j)+'.png')\n",
    "    plt.show() "
   ]
  },
  {
   "cell_type": "code",
   "execution_count": null,
   "id": "b8bdbdfd",
   "metadata": {},
   "outputs": [],
   "source": [
    "mean_clus_traja_info = pd.DataFrame (list(zip(lengths, distances, clusters)), columns = ['lengths', 'distances', 'clusters'])\n",
    "mean_clus_traja_info.to_excel(\"mean_clus_traja_info.xlsx\")"
   ]
  },
  {
   "cell_type": "code",
   "execution_count": null,
   "id": "83a22b8d",
   "metadata": {},
   "outputs": [],
   "source": [
    "denial_actors_summary.groupby('cluster_smoothed', as_index = False).agg({'Group.Name': 'count'})"
   ]
  },
  {
   "cell_type": "code",
   "execution_count": null,
   "id": "c84e9782",
   "metadata": {},
   "outputs": [],
   "source": [
    "#CLUSTERS OF ACTORS SHARING CLIMATE CHANGE DENIAL CONTENT\n",
    "\n",
    "denial_clusters_max = [4, 14, 0, 29, 48, 39, 10, 36]\n",
    "\n",
    "fig, axes = plt.subplots(nrows=4, ncols=2, sharex=True, sharey=True, figsize=(8, 12))\n",
    " \n",
    "custom_xlim = (-100, 100)\n",
    "custom_ylim = (-100, 100)\n",
    "\n",
    "plt.setp(axes, xlim=custom_xlim, ylim=custom_ylim)\n",
    "axes = axes.ravel()\n",
    "\n",
    "for i in range(0, len(denial_clusters_max)):\n",
    "    df = mean_clusters_years[[\"X1\", \"X2\", \"Year\"]][mean_clusters_years.cluster_smoothed == denial_clusters_max[i]].reset_index(drop = True)\n",
    "    df = df.rename(columns = {\"X1\": 'x', \"X2\": 'y', \"Year\": \"time\"})\n",
    "    df = traja.TrajaDataFrame(df)\n",
    "    df = traja.smooth_sg(df, w = 3, p=1)\n",
    "    \n",
    "    plot_title = \"Cluster \" + str(denial_clusters_max [i])\n",
    "    axes[i].plot(df.x, df.y, '-o')\n",
    "    axes[i].title.set_text(plot_title)\n",
    "    axes[i].text(df.x[0], df.y[0], df.time[0])\n",
    "    \n",
    "    l = len(df)-1\n",
    "    axes[i].text(df.x[l], df.y[l], df.time[l])\n",
    "   \n",
    "plt.savefig('denial_cluster_directions' + str(j)+'.png')"
   ]
  },
  {
   "cell_type": "code",
   "execution_count": null,
   "id": "9d45d630",
   "metadata": {},
   "outputs": [],
   "source": [
    "\n",
    "mean_denial_clusters_years = []\n",
    "\n",
    "for cluster in denial_clusters_max:\n",
    "    \n",
    "    df = sv_actors_years [(sv_actors_years['cluster_smoothed'] == cluster) &( sv_actors_years['Group.Name'].isin(denial_names))]\n",
    "    df = df.groupby ('Year', as_index = False).agg({'X1': 'mean', 'X2': 'mean'})\n",
    "    df[\"cluster_smoothed\"] = cluster\n",
    "    mean_denial_clusters_years.append(df)\n",
    "    \n",
    "mean_denial_clusters_years = pd.concat (mean_denial_clusters_years)\n",
    "mean_denial_clusters_years"
   ]
  },
  {
   "cell_type": "code",
   "execution_count": null,
   "id": "ea880007",
   "metadata": {},
   "outputs": [],
   "source": [
    "traj_stats = pd.DataFrame({'cluster_smoothed' : clusters,\n",
    "                           'length' : lengths,\n",
    "                           'distance': distances,\n",
    "                           'displacement' : displacements})\n",
    "\n",
    "denial_traj_stats = traj_stats[traj_stats.cluster_smoothed.isin(denial_clusters)]\n",
    "\n",
    "denial_actors_summary = denial_actors_summary.merge (denial_traj_stats, on = 'cluster_smoothed')\n",
    "denial_actors_summary  ['Ratio of climate change denial messages'] = denial_actors_summary ['denial_binary'] / denial_actors_summary ['fasttext']\n"
   ]
  },
  {
   "cell_type": "code",
   "execution_count": null,
   "id": "61c927ac",
   "metadata": {},
   "outputs": [],
   "source": [
    "denial_actors_summary['denial_cluster_smoothed'] = \"\"\n",
    "\n",
    "for i in range(0, len(denial_names)):\n",
    "    \n",
    "    denial_actors_summary['denial_cluster_smoothed'].loc [denial_actors_summary['Group.Name'] == denial_names[i]] = denial_clust_smoothed [i]"
   ]
  },
  {
   "cell_type": "code",
   "execution_count": null,
   "id": "21c9b6fd",
   "metadata": {},
   "outputs": [],
   "source": [
    "denial_actors_summary = denial_actors_summary.drop (columns = ['length', 'distance', 'displacement'])\n",
    "denial_actors_summary = denial_actors_summary.merge (denial_actors_traja, on = 'Group.Name') \n",
    "denial_actors_summary.to_excel (\"denial_actors_summary.xlsx\")\n",
    "denial_actors_summary.to_csv (\"denial_actors_summary.csv\")"
   ]
  },
  {
   "cell_type": "code",
   "execution_count": null,
   "id": "a6015deb",
   "metadata": {},
   "outputs": [],
   "source": [
    "denial_actors_summary.groupby ('denial_cluster_smoothed', as_index = False).agg ({'Group.Name': 'count'})"
   ]
  },
  {
   "cell_type": "code",
   "execution_count": null,
   "id": "6c27eeb5",
   "metadata": {},
   "outputs": [],
   "source": [
    "denial_actors_summary.corr(numeric_only=True).style.background_gradient(cmap='coolwarm')"
   ]
  },
  {
   "cell_type": "code",
   "execution_count": null,
   "id": "6773372c",
   "metadata": {},
   "outputs": [],
   "source": [
    "denial_actors_summary.groupby ('cluster_smoothed', as_index = False).agg ({'Group.Name': 'count'})"
   ]
  },
  {
   "cell_type": "code",
   "execution_count": null,
   "id": "f8752b5c",
   "metadata": {},
   "outputs": [],
   "source": [
    "np.median(denial_actors_summary.denial_ratio)"
   ]
  },
  {
   "cell_type": "code",
   "execution_count": null,
   "id": "316bc3aa",
   "metadata": {},
   "outputs": [],
   "source": [
    "sv_actors_summary.corr(numeric_only=True).style.background_gradient(cmap='coolwarm')\n",
    "sv_actors_summary.to_excel(\"sv_actors_summary.xlsx\")"
   ]
  },
  {
   "cell_type": "code",
   "execution_count": null,
   "id": "f6bc544c",
   "metadata": {},
   "outputs": [],
   "source": [
    "sv_mean_clusters = sv_actors_summary.groupby ('cluster_smoothed', as_index = False).agg ({'X1': 'mean', \n",
    "                                                                                          'X2': 'mean', \n",
    "                                                                                          'denial_binary': 'sum',\n",
    "                                                                                         'fasttext': 'sum'})\n",
    "\n",
    "sv_mean_clusters ['denial_ratio'] = sv_mean_clusters ['denial_binary'] / sv_mean_clusters ['fasttext']\n",
    "sv_mean_clusters  = sv_mean_clusters.merge (traj_stats, on = 'cluster_smoothed')\n",
    "sv_mean_clusters.to_excel (\"sv_mean_clusters_summary.xlsx\")"
   ]
  },
  {
   "cell_type": "code",
   "execution_count": null,
   "id": "ec32a8cc",
   "metadata": {},
   "outputs": [],
   "source": [
    "sns.set(rc={'figure.figsize':(10,15)})\n",
    "p5= sns.scatterplot(x=\"X1\", y=\"X2\",\n",
    "                palette=sns.color_palette(\"tab20\"), \n",
    "                hue = 'cluster_smoothed',\n",
    "                data= denial_actors_summary[denial_actors_summary.cluster_smoothed.isin(denial_clusters_max)]\n",
    "                   )\n",
    "p5.set(xlim=(-100, 100), ylim=(-100, 100))\n",
    "sns.move_legend(p5, \"lower right\",\n",
    "                title='Cluster assignment', alignment = \"left\")\n",
    "plt.show()"
   ]
  },
  {
   "cell_type": "markdown",
   "id": "b8e81cf1",
   "metadata": {},
   "source": [
    "# CLIMATE CHANGE DENIAL VS MAINSTREAM"
   ]
  },
  {
   "cell_type": "code",
   "execution_count": null,
   "id": "a4910414",
   "metadata": {
    "scrolled": true
   },
   "outputs": [],
   "source": [
    "media_list_mm = pd.read_excel (\"media_list_facebook.xlsx\")\n",
    "media_list_mm = media_list_mm.drop (\"Unnamed: 0\", axis = 1)\n",
    "media_list_mm[\"Group category\"] = \"Mainstream media\""
   ]
  },
  {
   "cell_type": "code",
   "execution_count": null,
   "id": "257b4e35",
   "metadata": {
    "scrolled": true
   },
   "outputs": [],
   "source": [
    "denial_act = denial_actors_summary[[\"Group.Name\"]][denial_actors_summary.denial_ratio >0.05]\n",
    "denial_act[\"Group category\"] = \"Groups with climate change denial-related narratives\"\n",
    "\n",
    "denial_act"
   ]
  },
  {
   "cell_type": "code",
   "execution_count": null,
   "id": "83ff1a97",
   "metadata": {},
   "outputs": [],
   "source": [
    "polit_act = [\"Vänsterpartiet\", \n",
    "             \"Centerpartiet\", \n",
    "             \"Kristdemokraterna\", \n",
    "             \"Liberalerna\", \n",
    "             \"Moderaterna\", \n",
    "             \"Miljöpartiet de gröna\", \n",
    "             \"Sverigedemokraterna\", \n",
    "             \"Socialdemokraterna\"]\n",
    "\n",
    "polit_act = sv_actors_summary [[\"Group.Name\"]][sv_actors_summary[\"Group.Name\"].isin (polit_act)].reset_index(drop = True)\n",
    "polit_act\n",
    "\n",
    "polit_act[\"Group category\"] = \"Political parties\"\n",
    "\n"
   ]
  },
  {
   "cell_type": "code",
   "execution_count": null,
   "id": "59cbd315",
   "metadata": {},
   "outputs": [],
   "source": [
    "act_df = pd.concat([denial_act, media_list_mm, polit_act], ignore_index=True)\n",
    "b = sv_actors_summary[[\"Group.Name\", \"X1\", \"X2\"]][sv_actors_summary[\"Group.Name\"].isin (act_df[\"Group.Name\"])].reset_index(drop = True)\n",
    "act_df = act_df.merge (b, on = 'Group.Name')\n",
    "act_df"
   ]
  },
  {
   "cell_type": "code",
   "execution_count": null,
   "id": "8e8ffce1",
   "metadata": {},
   "outputs": [],
   "source": [
    "sns.set(rc={'figure.figsize':(8,10)})\n",
    "p5= sns.scatterplot(x=\"X1\", y=\"X2\",\n",
    "                palette=sns.color_palette(),\n",
    "                hue=\"Group category\", \n",
    "                data=act_df, s=50)\n",
    "\n",
    "p5.set_ylim(-100, 100)\n",
    "p5.set_xlim(-100, 100)\n",
    "\n",
    "plt.show(p5)\n",
    "plt.savefig (\"cc_vs_mm.png\")"
   ]
  }
 ],
 "metadata": {
  "celltoolbar": "Необработанный формат ячейки",
  "kernelspec": {
   "display_name": "tf",
   "language": "python",
   "name": "tf"
  },
  "language_info": {
   "codemirror_mode": {
    "name": "ipython",
    "version": 3
   },
   "file_extension": ".py",
   "mimetype": "text/x-python",
   "name": "python",
   "nbconvert_exporter": "python",
   "pygments_lexer": "ipython3",
   "version": "3.10.11"
  }
 },
 "nbformat": 4,
 "nbformat_minor": 5
}
