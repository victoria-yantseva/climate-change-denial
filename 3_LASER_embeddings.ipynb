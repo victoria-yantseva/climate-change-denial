{
 "cells": [
  {
   "cell_type": "code",
   "execution_count": null,
   "id": "e6bb649f",
   "metadata": {},
   "outputs": [],
   "source": [
    "from laserembeddings import Laser\n",
    "import pandas as pd\n",
    "from nltk.tokenize import sent_tokenize\n",
    "import nltk\n",
    "import fasttext\n",
    "import numpy as np\n",
    "import seaborn as sns\n",
    "\n",
    "from sklearn.manifold import TSNE\n",
    "from sklearn.cluster import KMeans\n",
    "\n",
    "from sklearn.feature_extraction.text import TfidfVectorizer\n",
    "import fasttext\n",
    "\n",
    "import pickle\n",
    "import csv"
   ]
  },
  {
   "cell_type": "code",
   "execution_count": null,
   "id": "eca92d11",
   "metadata": {},
   "outputs": [],
   "source": [
    "!python -m laserembeddings download-models"
   ]
  },
  {
   "cell_type": "code",
   "execution_count": null,
   "id": "df724932",
   "metadata": {},
   "outputs": [],
   "source": [
    "fb = pd.read_csv(\"facebook_cc.csv\", engine='python')"
   ]
  },
  {
   "cell_type": "code",
   "execution_count": null,
   "id": "1243b842",
   "metadata": {},
   "outputs": [],
   "source": [
    "fasttext_model = fasttext.load_model('lid.176.bin')"
   ]
  },
  {
   "cell_type": "code",
   "execution_count": null,
   "id": "67312476",
   "metadata": {},
   "outputs": [],
   "source": [
    "fb = fb.dropna(subset = ['Message'] ).reset_index(drop = True)\n",
    "\n",
    "docs = fb['Message'].to_list()\n",
    "\n",
    "text = fb['Message']\n"
   ]
  },
  {
   "cell_type": "code",
   "execution_count": null,
   "id": "d936d67c",
   "metadata": {},
   "outputs": [],
   "source": [
    "\n",
    "#remove html markup\n",
    "text = text.str.replace('<.*?>|&([a-z0-9]+|#[0-9]{1,6}|#x[0-9a-f]{1,6});',' ')\n",
    "# \n",
    "#remove tabs\n",
    "text= text.str.replace('[ |\\t]{2,}', ' ', case=False, regex = True)\n",
    "\n",
    "#remove urls \n",
    "text= text.str.replace('http\\S+|www\\.\\S+', ' ', case=False, regex = True)\n",
    "\n",
    "#remove urls \n",
    "text= text.str.replace('\\S+\\.se|\\S+\\.com|\\S+\\.org', ' ', case=False, regex = True)\n",
    "\n",
    "#remove e-mails\n",
    "text= text.str.replace('\\S+@\\S+', ' ', case=False, regex = True)\n",
    "\n",
    "#remove additional links\n",
    "text= text.str.replace('bit\\.ly\\S+', ' ', case=False, regex = True)\n",
    "text= text.str.replace('goo\\.gl\\S+', ' ', case=False, regex = True)\n",
    "text= text.str.replace('youtu\\.be\\S+', ' ', case=False, regex = True)\n",
    "\n",
    "#remove numbers and punctuation EXCEPT FOR ! ? , .\n",
    "text = text.str.replace('[^a-zåöäéáúğüíæøýóç!?,.-: ]',' ', regex = True).str.replace(' +',' ').str.strip()\n",
    "\n"
   ]
  },
  {
   "cell_type": "code",
   "execution_count": null,
   "id": "7de20d0b",
   "metadata": {},
   "outputs": [],
   "source": [
    "docs_lang_fasttext = list(map(fasttext_model.predict, docs))"
   ]
  },
  {
   "cell_type": "code",
   "execution_count": null,
   "id": "0ea85934",
   "metadata": {},
   "outputs": [],
   "source": [
    "docs_lang_fasttext_labels = [x[0] for x in docs_lang_fasttext]\n",
    "\n",
    "docs_lang_fasttext_labels = [''.join(x) for x in docs_lang_fasttext_labels] \n",
    "docs_lang_fasttext_labels = [x[-2:] for x in docs_lang_fasttext_labels]\n",
    "\n",
    "\n",
    "#merge into one df and remove non-sv documents\n",
    "\n",
    "fb['fasttext'] = docs_lang_fasttext_labels\n",
    "\n",
    "fb = fb[(fb['fasttext'] == \"sv\") | (fb['fasttext'] == \"no\") | (fb['fasttext'] == \"da\" ) | (fb['fasttext'] == \"fi\" ) | (fb['fasttext'] == \"en\" )]\n",
    "fb = fb.reset_index(drop = True)\n"
   ]
  },
  {
   "cell_type": "code",
   "execution_count": null,
   "id": "b41035fe",
   "metadata": {},
   "outputs": [],
   "source": [
    "fb = fb.dropna(subset=['Message'])\n",
    "fb=fb[fb.Message != '']\n",
    "\n",
    "docs = fb['Message'].to_list()\n",
    "len(docs)"
   ]
  },
  {
   "cell_type": "code",
   "execution_count": null,
   "id": "79bd5695",
   "metadata": {},
   "outputs": [],
   "source": [
    "column_ids = []\n",
    "for i in range (0, 1024):\n",
    "    column_ids.append(str(i))\n"
   ]
  },
  {
   "cell_type": "code",
   "execution_count": null,
   "id": "67c4a8b2",
   "metadata": {},
   "outputs": [],
   "source": [
    "laser = Laser()\n",
    "\n",
    "embeddings = []\n",
    "    \n",
    "for i in range(100001, len(docs)):\n",
    "\n",
    "\n",
    "    b = laser.embed_sentences(docs[i], lang = fb['fasttext'][i]) \n",
    "    embeddings.append(b[0])\n",
    "    \n",
    "    if (i >0 )& (i % 100000 == 0):\n",
    "         \n",
    "        df = pd.DataFrame(embeddings, columns = column_ids) \n",
    "        df.to_csv(\"C:/Users/vicya449/Box/embeddings\" + str(i) + \".csv\")\n",
    "        print(len(df))\n",
    "        embeddings = []\n",
    "        \n",
    "        \n",
    "    elif (i == (len(docs)-1)):\n",
    "        \n",
    "        df = pd.DataFrame(embeddings, columns = column_ids) \n",
    "        df.to_csv(\"C:/Users/vicya449/Box/embeddings\" + str(i) + \".csv\")"
   ]
  }
 ],
 "metadata": {
  "kernelspec": {
   "display_name": "Python 3 (ipykernel)",
   "language": "python",
   "name": "python3"
  },
  "language_info": {
   "codemirror_mode": {
    "name": "ipython",
    "version": 3
   },
   "file_extension": ".py",
   "mimetype": "text/x-python",
   "name": "python",
   "nbconvert_exporter": "python",
   "pygments_lexer": "ipython3",
   "version": "3.9.18"
  }
 },
 "nbformat": 4,
 "nbformat_minor": 5
}
